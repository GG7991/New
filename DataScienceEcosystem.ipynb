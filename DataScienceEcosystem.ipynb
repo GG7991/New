{
 "cells": [
  {
   "cell_type": "markdown",
   "id": "b40d860a",
   "metadata": {},
   "source": [
    "# Data Science Tools and Ecosystem"
   ]
  },
  {
   "cell_type": "markdown",
   "id": "5ad03426",
   "metadata": {},
   "source": [
    "#### Objectives:"
   ]
  },
  {
   "cell_type": "markdown",
   "id": "127d6718",
   "metadata": {},
   "source": [
    "R, R Studio, Python, SQL"
   ]
  },
  {
   "cell_type": "markdown",
   "id": "7ed37937",
   "metadata": {},
   "source": [
    "In this notebook, Data Science Tools and Ecosystem are summarized."
   ]
  },
  {
   "cell_type": "markdown",
   "id": "1a24a7cb",
   "metadata": {},
   "source": [
    "Some of the popular languages that Data Scientists use are:"
   ]
  },
  {
   "cell_type": "markdown",
   "id": "23957acb",
   "metadata": {},
   "source": [
    "1) R"
   ]
  },
  {
   "cell_type": "markdown",
   "id": "ba69ae23",
   "metadata": {},
   "source": [
    "2) Python"
   ]
  },
  {
   "cell_type": "markdown",
   "id": "e887ad3b",
   "metadata": {},
   "source": [
    "3) SQL"
   ]
  },
  {
   "cell_type": "markdown",
   "id": "aff4c2eb",
   "metadata": {},
   "source": [
    "Some of the commonly used libraries used by Data Scientists include:"
   ]
  },
  {
   "cell_type": "markdown",
   "id": "c6a6ec5a",
   "metadata": {},
   "source": [
    "Pandas, Scikit-learn, Matplotlib"
   ]
  },
  {
   "cell_type": "markdown",
   "id": "69a47054",
   "metadata": {},
   "source": [
    "# Data Science Tools"
   ]
  },
  {
   "cell_type": "markdown",
   "id": "1a409c0e",
   "metadata": {},
   "source": [
    "Hadoop, Spark, TensorFlow.js, Ggplot, R Studio\n"
   ]
  },
  {
   "cell_type": "markdown",
   "id": "0e8152dc",
   "metadata": {},
   "source": [
    "### Below are a few examples of evaluating arithmetic expressions in Python"
   ]
  },
  {
   "cell_type": "code",
   "execution_count": 2,
   "id": "6d15e719",
   "metadata": {},
   "outputs": [
    {
     "data": {
      "text/plain": [
       "17"
      ]
     },
     "execution_count": 2,
     "metadata": {},
     "output_type": "execute_result"
    }
   ],
   "source": [
    "#This a simple arithmetic expression to mutiply then add integers\n",
    "(3*4)+5"
   ]
  },
  {
   "cell_type": "code",
   "execution_count": 3,
   "id": "de56eaef",
   "metadata": {},
   "outputs": [
    {
     "data": {
      "text/plain": [
       "3.3333333333333335"
      ]
     },
     "execution_count": 3,
     "metadata": {},
     "output_type": "execute_result"
    }
   ],
   "source": [
    "#This will convert 200 minutes to hours by diving by 60\n",
    "200/60"
   ]
  },
  {
   "cell_type": "markdown",
   "id": "6cccb6d8",
   "metadata": {},
   "source": [
    "Author"
   ]
  },
  {
   "cell_type": "markdown",
   "id": "077fe509",
   "metadata": {},
   "source": [
    "## Gulnoza Gayurova"
   ]
  },
  {
   "cell_type": "code",
   "execution_count": null,
   "id": "977bf1a7",
   "metadata": {},
   "outputs": [],
   "source": []
  }
 ],
 "metadata": {
  "kernelspec": {
   "display_name": "Python 3 (ipykernel)",
   "language": "python",
   "name": "python3"
  },
  "language_info": {
   "codemirror_mode": {
    "name": "ipython",
    "version": 3
   },
   "file_extension": ".py",
   "mimetype": "text/x-python",
   "name": "python",
   "nbconvert_exporter": "python",
   "pygments_lexer": "ipython3",
   "version": "3.9.11"
  }
 },
 "nbformat": 4,
 "nbformat_minor": 5
}
